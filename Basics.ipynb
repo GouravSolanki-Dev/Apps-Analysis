{
 "cells": [
  {
   "cell_type": "markdown",
   "metadata": {},
   "source": [
    "# Profitable App Profiles for the App Store and Google Play Markets"
   ]
  },
  {
   "cell_type": "markdown",
   "metadata": {},
   "source": [
    "## This project about apps on Google Play and the App Store. Our aim in this project is to find mobile app profiles that are profitable for the App Store and Google Play markets."
   ]
  },
  {
   "cell_type": "code",
   "execution_count": 1,
   "metadata": {},
   "outputs": [
    {
     "name": "stdout",
     "output_type": "stream",
     "text": [
      "['284882215', 'Facebook', '389879808', 'USD', '0.0', '2974676', '212', '3.5', '3.5', '95.0', '4+', 'Social Networking', '37', '1', '29', '1']\n",
      "\n",
      "\n",
      "['389801252', 'Instagram', '113954816', 'USD', '0.0', '2161558', '1289', '4.5', '4.0', '10.23', '12+', 'Photo & Video', '37', '0', '29', '1']\n",
      "\n",
      "\n",
      "['529479190', 'Clash of Clans', '116476928', 'USD', '0.0', '2130805', '579', '4.5', '4.5', '9.24.12', '9+', 'Games', '38', '5', '18', '1']\n",
      "\n",
      "\n",
      "['420009108', 'Temple Run', '65921024', 'USD', '0.0', '1724546', '3842', '4.5', '4.0', '1.6.2', '9+', 'Games', '40', '5', '1', '1']\n",
      "\n",
      "\n",
      "['284035177', 'Pandora - Music & Radio', '130242560', 'USD', '0.0', '1126879', '3594', '4.0', '4.5', '8.4.1', '12+', 'Music', '37', '4', '1', '1']\n",
      "\n",
      "\n",
      "Number of rows: 7197\n",
      "Number of columns: 16\n",
      "\n",
      "\n",
      "['Photo Editor & Candy Camera & Grid & ScrapBook', 'ART_AND_DESIGN', '4.1', '159', '19M', '10,000+', 'Free', '0', 'Everyone', 'Art & Design', 'January 7, 2018', '1.0.0', '4.0.3 and up']\n",
      "\n",
      "\n",
      "['Coloring book moana', 'ART_AND_DESIGN', '3.9', '967', '14M', '500,000+', 'Free', '0', 'Everyone', 'Art & Design;Pretend Play', 'January 15, 2018', '2.0.0', '4.0.3 and up']\n",
      "\n",
      "\n",
      "['U Launcher Lite – FREE Live Cool Themes, Hide Apps', 'ART_AND_DESIGN', '4.7', '87510', '8.7M', '5,000,000+', 'Free', '0', 'Everyone', 'Art & Design', 'August 1, 2018', '1.2.4', '4.0.3 and up']\n",
      "\n",
      "\n",
      "['Sketch - Draw & Paint', 'ART_AND_DESIGN', '4.5', '215644', '25M', '50,000,000+', 'Free', '0', 'Teen', 'Art & Design', 'June 8, 2018', 'Varies with device', '4.2 and up']\n",
      "\n",
      "\n",
      "['Pixel Draw - Number Art Coloring Book', 'ART_AND_DESIGN', '4.3', '967', '2.8M', '100,000+', 'Free', '0', 'Everyone', 'Art & Design;Creativity', 'June 20, 2018', '1.1', '4.4 and up']\n",
      "\n",
      "\n",
      "Number of rows: 10841\n",
      "Number of columns: 13\n",
      "\n",
      "\n",
      "['id', 'track_name', 'size_bytes', 'currency', 'price', 'rating_count_tot', 'rating_count_ver', 'user_rating', 'user_rating_ver', 'ver', 'cont_rating', 'prime_genre', 'sup_devices.num', 'ipadSc_urls.num', 'lang.num', 'vpp_lic']\n",
      "\n",
      "\n",
      "['App', 'Category', 'Rating', 'Reviews', 'Size', 'Installs', 'Type', 'Price', 'Content Rating', 'Genres', 'Last Updated', 'Current Ver', 'Android Ver']\n"
     ]
    }
   ],
   "source": [
    "from csv import reader\n",
    "\n",
    "opened_file = open('AppleStore.csv')\n",
    "read_file = reader(opened_file)\n",
    "ios = list(read_file)\n",
    "ios_header = ios[0]\n",
    "ios = ios[1:]\n",
    "\n",
    "opened_file = open('googleplaystore.csv')\n",
    "read_file = reader(opened_file)\n",
    "android = list(read_file)\n",
    "android_header = android[0]\n",
    "android = android[1:]\n",
    "\n",
    "def explore_data(dataset, start, end, rows_and_columns=False):\n",
    "    dataset_slice = dataset[start:end]    \n",
    "    for row in dataset_slice:\n",
    "        print(row)\n",
    "        print('\\n') # adds a new (empty) line after each row\n",
    "\n",
    "    if rows_and_columns:\n",
    "        print('Number of rows:', len(dataset))\n",
    "        print('Number of columns:', len(dataset[0]))\n",
    "\n",
    "explore_data(ios, 0, 5, True)\n",
    "print('\\n')\n",
    "explore_data(android, 0, 5, True)\n",
    "print('\\n')\n",
    "print(ios_header)\n",
    "print('\\n')\n",
    "print(android_header)"
   ]
  },
  {
   "cell_type": "code",
   "execution_count": 2,
   "metadata": {},
   "outputs": [],
   "source": [
    "del android[10472]\n"
   ]
  },
  {
   "cell_type": "markdown",
   "metadata": {},
   "source": [
    "we find that some apps have more than one entry. For instance, the application Google has three entries:"
   ]
  },
  {
   "cell_type": "code",
   "execution_count": 3,
   "metadata": {},
   "outputs": [
    {
     "name": "stdout",
     "output_type": "stream",
     "text": [
      "['Google', 'TOOLS', '4.4', '8033493', 'Varies with device', '1,000,000,000+', 'Free', '0', 'Everyone', 'Tools', 'August 3, 2018', 'Varies with device', 'Varies with device']\n",
      "['Google', 'TOOLS', '4.4', '8021623', 'Varies with device', '1,000,000,000+', 'Free', '0', 'Everyone', 'Tools', 'August 3, 2018', 'Varies with device', 'Varies with device']\n"
     ]
    }
   ],
   "source": [
    "for app in android:\n",
    "    name = app[0]\n",
    "    if name == 'Google':\n",
    "        print(app)   "
   ]
  },
  {
   "cell_type": "markdown",
   "metadata": {},
   "source": [
    "We can find the total number of duplicate apps in data"
   ]
  },
  {
   "cell_type": "code",
   "execution_count": 4,
   "metadata": {},
   "outputs": [
    {
     "name": "stdout",
     "output_type": "stream",
     "text": [
      "Number of Duplicate Values:- 1181\n",
      "\n",
      "Examples of duplicate apps:-\n",
      "\n",
      "['Quick PDF Scanner + OCR FREE', 'Box', 'Google My Business', 'ZOOM Cloud Meetings', 'join.me - Simple Meetings', 'Box', 'Zenefits', 'Google Ads', 'Google My Business', 'Slack', 'FreshBooks Classic', 'Insightly CRM', 'QuickBooks Accounting: Invoicing & Expenses', 'HipChat - Chat Built for Teams', 'Xero Accounting Software']\n"
     ]
    }
   ],
   "source": [
    "duplicate_apps=[]\n",
    "unique_apps=[]\n",
    "\n",
    "for app in android:\n",
    "    name=app[0]\n",
    "    if name in unique_apps:\n",
    "        duplicate_apps.append(name)\n",
    "    else:\n",
    "        unique_apps.append(name)\n",
    "print('Number of Duplicate Values:-',len(duplicate_apps))\n",
    "print('\\nExamples of duplicate apps:-\\n')\n",
    "print(duplicate_apps[:15])"
   ]
  },
  {
   "cell_type": "markdown",
   "metadata": {},
   "source": [
    "In total, there are 1181 cases where an app occures more than once."
   ]
  },
  {
   "cell_type": "markdown",
   "metadata": {},
   "source": [
    "We do not want to count certain apps more than once when we analyze data, so we need to remove the duplicate entries and keep only one entry per app. One thing we could do is remove the duplicate rows randomly, but we could probably find a better way.\n",
    "\n",
    "If you examine the rows we printed two cells above for the Google Ads app, the main difference happens on the fouth position of each row, which corresponds to the number of reviews. The different numbers show that the data was collected at different times. We can use this to build a criterion for keeping rows. We will not remove rows randomly, but rather we will keep the rows that have the highest number of reviews because the higher the number of reviews, the more reliable the ratings.\n",
    "\n",
    "To do that, we will:\n",
    "\n",
    "Create a dictionary where each key is unique app name, and the value is the highest number of reviews of that app\n",
    "Use the dictionary to create a new data set, which will have only one entry per app (and we only select the apps with the highest numbe rof reviews)"
   ]
  },
  {
   "cell_type": "code",
   "execution_count": 5,
   "metadata": {},
   "outputs": [
    {
     "name": "stdout",
     "output_type": "stream",
     "text": [
      "9659\n"
     ]
    }
   ],
   "source": [
    "reviews_max = {}\n",
    "\n",
    "for app in android:\n",
    "    name = app[0]\n",
    "    n_reviews = float(app[3])\n",
    "  \n",
    "    if name in reviews_max and reviews_max[name] < n_reviews:\n",
    "        reviews_max[name] = n_reviews\n",
    "\n",
    "    elif name not in reviews_max: \n",
    "        reviews_max[name] = n_reviews\n",
    "    \n",
    "# print(reviews_max)\n",
    "print(len(reviews_max))"
   ]
  },
  {
   "cell_type": "markdown",
   "metadata": {},
   "source": [
    "we found that there are 1181 cases where an app occurs more than once, so the length of unique apps dictionary should be equal to the difference between the length of our data set and 1181"
   ]
  },
  {
   "cell_type": "markdown",
   "metadata": {},
   "source": [
    "let's use the reviews_max dictionary to remove the duplicates. For the duplicate cases, we will only keep the entries with the highest number of reviews. In the code below:\n",
    "\n",
    "    We start by initializing two empty lists, android_clean and already_added.\n",
    "    We loop through the android data set, and for every iteration:\n",
    "        We isolate the name of the app and the number of reviews.\n",
    "        We add the current row (app) to the android_clean list, and the app name (name) to the already_cleaned list if:\n",
    "            The number of reviews of the current app matches the number of reviews of that app as described in the reviews_max dictionary; and\n",
    "            The name of the app is not already_added list. We need to add this supplementary condition to account for those cases where the highest number of reviews of a duplicate app is the same for more than one entry (for example, the Box app has the three entries, and the number of reviews, and the number of reviews is the same). If we just check for reviews_max[name] == n_reviews, we'll still end up with duplicate entries for some apps."
   ]
  },
  {
   "cell_type": "code",
   "execution_count": 6,
   "metadata": {},
   "outputs": [],
   "source": [
    "android_clean = []\n",
    "already_added = []\n",
    "\n",
    "for app in android:\n",
    "    name = app[0]\n",
    "    n_reviews = float(app[3])\n",
    "    \n",
    "    if (reviews_max[name] == n_reviews) and (name not in already_added):\n",
    "        android_clean.append(app)\n",
    "        already_added.append(name)"
   ]
  },
  {
   "cell_type": "markdown",
   "metadata": {},
   "source": [
    "Remember we use English for the apps we develop at our company, and we'd like to analyze only the apps that are designed for an English-speaking audience. However, if we explore the data long enough, we'll find that both datasets have apps with names that suggest they are not designed for an English-speaking audience."
   ]
  },
  {
   "cell_type": "code",
   "execution_count": 7,
   "metadata": {},
   "outputs": [
    {
     "name": "stdout",
     "output_type": "stream",
     "text": [
      "爱奇艺PPS -《欢乐颂2》电视剧热播\n",
      "【脱出ゲーム】絶対に最後までプレイしないで 〜謎解き＆ブロックパズル〜\n",
      "\n",
      "\n",
      "中国語 AQリスニング\n",
      "لعبة تقدر تربح DZ\n"
     ]
    }
   ],
   "source": [
    "print(ios[813][1])\n",
    "print(ios[6731][1])\n",
    "print('\\n')\n",
    "print(android_clean[4412][0])\n",
    "print(android_clean[7940][0])"
   ]
  },
  {
   "cell_type": "code",
   "execution_count": 8,
   "metadata": {},
   "outputs": [
    {
     "name": "stdout",
     "output_type": "stream",
     "text": [
      "True\n",
      "False\n",
      "False\n",
      "False\n"
     ]
    }
   ],
   "source": [
    "def characters_Ascii(a_string):\n",
    "    for character in a_string:\n",
    "        if ord(character) > 127:\n",
    "            return False\n",
    "    \n",
    "    return True\n",
    "\n",
    "print(characters_Ascii('Instagram'))\n",
    "print(characters_Ascii('爱奇艺PPS -《欢乐颂2》电视剧热播'))\n",
    "print(characters_Ascii('Docs To Go™ Free Office Suite'))\n",
    "print(characters_Ascii('Instachat 😜'))"
   ]
  },
  {
   "cell_type": "code",
   "execution_count": 9,
   "metadata": {},
   "outputs": [
    {
     "name": "stdout",
     "output_type": "stream",
     "text": [
      "['284882215', 'Facebook', '389879808', 'USD', '0.0', '2974676', '212', '3.5', '3.5', '95.0', '4+', 'Social Networking', '37', '1', '29', '1']\n",
      "\n",
      "\n",
      "['389801252', 'Instagram', '113954816', 'USD', '0.0', '2161558', '1289', '4.5', '4.0', '10.23', '12+', 'Photo & Video', '37', '0', '29', '1']\n",
      "\n",
      "\n",
      "['529479190', 'Clash of Clans', '116476928', 'USD', '0.0', '2130805', '579', '4.5', '4.5', '9.24.12', '9+', 'Games', '38', '5', '18', '1']\n",
      "\n",
      "\n",
      "Number of rows: 5707\n",
      "Number of columns: 16\n",
      "\n",
      "\n",
      "['Photo Editor & Candy Camera & Grid & ScrapBook', 'ART_AND_DESIGN', '4.1', '159', '19M', '10,000+', 'Free', '0', 'Everyone', 'Art & Design', 'January 7, 2018', '1.0.0', '4.0.3 and up']\n",
      "\n",
      "\n",
      "['Sketch - Draw & Paint', 'ART_AND_DESIGN', '4.5', '215644', '25M', '50,000,000+', 'Free', '0', 'Teen', 'Art & Design', 'June 8, 2018', 'Varies with device', '4.2 and up']\n",
      "\n",
      "\n",
      "['Pixel Draw - Number Art Coloring Book', 'ART_AND_DESIGN', '4.3', '967', '2.8M', '100,000+', 'Free', '0', 'Everyone', 'Art & Design;Creativity', 'June 20, 2018', '1.1', '4.4 and up']\n",
      "\n",
      "\n",
      "Number of rows: 9117\n",
      "Number of columns: 13\n"
     ]
    }
   ],
   "source": [
    "ios_english = []\n",
    "android_english = []\n",
    "\n",
    "for app in ios:\n",
    "    name = app[1]\n",
    "    if characters_Ascii(name):\n",
    "        ios_english.append(app)\n",
    "\n",
    "for app in android_clean:\n",
    "    name = app[0]\n",
    "    if characters_Ascii(name):\n",
    "        android_english.append(app)\n",
    "        \n",
    "explore_data(ios_english, 0, 3, True)\n",
    "print('\\n')\n",
    "explore_data(android_english, 0, 3, True) "
   ]
  },
  {
   "cell_type": "markdown",
   "metadata": {},
   "source": [
    "So far in the data cleaning process, we've done the following:\n",
    "\n",
    "* Removed inaccurate data\n",
    "* Removed duplicate app entries\n",
    "* Removed non-English apps\n",
    "As we mentioned in the introduction, we only build apps that are free to download and install, and our main source of revenue consists of in-app ads. Our datasets contain both free and non-free apps; we'll need to isolate only the free apps for our analysis.\n",
    "\n",
    "Isolating the free apps will be our last step in the data cleaning process. On the next step, we're going to start analyzing the data."
   ]
  },
  {
   "cell_type": "code",
   "execution_count": 10,
   "metadata": {},
   "outputs": [
    {
     "name": "stdout",
     "output_type": "stream",
     "text": [
      "2922\n",
      "8408\n"
     ]
    }
   ],
   "source": [
    "ios_free = []\n",
    "android_free = []\n",
    "\n",
    "for app in ios_english:\n",
    "    price = float(app[4])\n",
    "    if price == 0.0:\n",
    "        ios_free.append(app)\n",
    "        \n",
    "for app in android_english:\n",
    "    price = app[7]\n",
    "    if price == '0':\n",
    "            android_free.append(app)\n",
    "            \n",
    "print(len(ios_free))\n",
    "print(len(android_free))"
   ]
  },
  {
   "cell_type": "markdown",
   "metadata": {},
   "source": [
    "So far, we've spent a good amount of time cleaning data, including the following:\n",
    "\n",
    "    1. Removing inaccurate data\n",
    "    2. Removing duplicate app entries\n",
    "    3. Removing non-English apps\n",
    "    4. Isolating the free apps\n",
    "As we mentioned in the introduction, our goal is to determine the kinds of apps that are likely to attract more users because the number of people using our apps affect our revenue.\n",
    "\n",
    "To minimize risks and overhead, our validation strategy for an app idea has three steps:\n",
    "\n",
    "    * Build a minimal Android version of the app, and add it to Google Play.\n",
    "    * If the app has a good response from users, we develop it further.\n",
    "    * If the app is profitable after six months, we build an iOS version of the app and add it to the App Store.\n",
    "\n",
    "    \n",
    "Because our end goal is to add the app on both Google Play and the App Store, we need to find app profiles that are successful in both markets. For instance, a profile that works well for both markets might be a productivity app that makes use of gamification.\n",
    "\n",
    "Let's begin the analysis by determining the most common genres for each market. For this, we'll need to build frequency tables for a few columns in our datasets.\n",
    "\n",
    "* We will build two functions we can use analyze the frequency tables:\n",
    "    \n",
    "    : One function to generate frequency tables that show percentages\n",
    "    \n",
    "    : Another function that we can use to display the percentages in a descending order"
   ]
  },
  {
   "cell_type": "markdown",
   "metadata": {},
   "source": [
    "Create a function named freq_table() that takes in two inputs: dataset (which will be a list of lists) and index (which will be an integer).\n",
    "\n",
    "The function should return the frequency table (as a dictionary) for any column we want. The frequencies should also be expressed as percentages."
   ]
  },
  {
   "cell_type": "code",
   "execution_count": 11,
   "metadata": {},
   "outputs": [],
   "source": [
    "def freq_table(dataset, index):\n",
    "    table = {}\n",
    "    total = 0\n",
    "    \n",
    "    for row in dataset:\n",
    "        total += 1\n",
    "        value = row[index]\n",
    "        if value in table:\n",
    "            table[value] += 1\n",
    "        else:\n",
    "            table[value] = 1\n",
    "    \n",
    "    table_percentages = {}\n",
    "    for key in table:\n",
    "        percentage = table[key] / total * 100\n",
    "        table_percentages[key] = percentage\n",
    "        \n",
    "    return table_percentages\n",
    "\n",
    "def display_table(dataset, index):\n",
    "    table = freq_table(dataset, index)\n",
    "    table_display = []\n",
    "    for key in table:\n",
    "        key_val_as_tuple = (table[key], key)\n",
    "        table_display.append(key_val_as_tuple)\n",
    "        \n",
    "    table_sorted = sorted(table_display, reverse = True)\n",
    "    print(\"Total count :- \",len(table_display))\n",
    "    print(\"\\n\\n\")\n",
    "    for entry in table_sorted:\n",
    "        print(entry[1], ':', entry[0])"
   ]
  },
  {
   "cell_type": "code",
   "execution_count": 12,
   "metadata": {},
   "outputs": [
    {
     "name": "stdout",
     "output_type": "stream",
     "text": [
      "['App', 'Category', 'Rating', 'Reviews', 'Size', 'Installs', 'Type', 'Price', 'Content Rating', 'Genres', 'Last Updated', 'Current Ver', 'Android Ver']\n",
      "\n",
      "\n",
      "['id', 'track_name', 'size_bytes', 'currency', 'price', 'rating_count_tot', 'rating_count_ver', 'user_rating', 'user_rating_ver', 'ver', 'cont_rating', 'prime_genre', 'sup_devices.num', 'ipadSc_urls.num', 'lang.num', 'vpp_lic']\n"
     ]
    }
   ],
   "source": [
    "print(android_header)\n",
    "print('\\n')\n",
    "print(ios_header)"
   ]
  },
  {
   "cell_type": "markdown",
   "metadata": {},
   "source": [
    "Analyze the frequency table you generated for the prime_genre column of the App Store dataset."
   ]
  },
  {
   "cell_type": "code",
   "execution_count": 13,
   "metadata": {},
   "outputs": [
    {
     "name": "stdout",
     "output_type": "stream",
     "text": [
      "Total count :-  23\n",
      "\n",
      "\n",
      "\n",
      "Games : 59.171800136892536\n",
      "Entertainment : 7.529089664613278\n",
      "Photo & Video : 5.133470225872689\n",
      "Education : 3.8329911019849416\n",
      "Social Networking : 3.1143052703627654\n",
      "Shopping : 2.4982888432580426\n",
      "Utilities : 2.2587268993839835\n",
      "Music : 2.1560574948665296\n",
      "Sports : 2.0533880903490758\n",
      "Health & Fitness : 1.9849418206707734\n",
      "Productivity : 1.7111567419575633\n",
      "Lifestyle : 1.4715947980835045\n",
      "News : 1.3347022587268993\n",
      "Travel : 1.1293634496919918\n",
      "Finance : 1.0951403148528405\n",
      "Weather : 0.8898015058179329\n",
      "Food & Drink : 0.8898015058179329\n",
      "Reference : 0.5133470225872689\n",
      "Business : 0.5133470225872689\n",
      "Book : 0.2737850787132101\n",
      "Medical : 0.20533880903490762\n",
      "Navigation : 0.13689253935660506\n",
      "Catalogs : 0.10266940451745381\n"
     ]
    }
   ],
   "source": [
    "display_table(ios_free, 11)"
   ]
  },
  {
   "cell_type": "markdown",
   "metadata": {},
   "source": [
    "We can see that we have total 23 values, among the free English apps, more than a half (59.17%) are games. Entertainment apps are close to 7.52%, followed by photo and video apps, which are close to 5.13%. Only 3.83% of the apps are designed for education, followed by social networking apps which amount for 3.11% of the apps in our data set.\n",
    "\n",
    "The general impression is that App Store (at least the part containing free English apps) is dominated by apps that are designed for fun (games, entertainment, photo and video, social networking, sports, music, etc.), while apps with partical purposes (education, shopping, utilities, productivity, lifestyle, etc.) are more rare. However, the fact that fun apps are the most numerous doesn't also imply that they also have the greatest number of users - the demand might not be the same as the offer."
   ]
  },
  {
   "cell_type": "markdown",
   "metadata": {},
   "source": [
    "Most Popular Apps by Genre on the App Store"
   ]
  },
  {
   "cell_type": "code",
   "execution_count": 14,
   "metadata": {
    "scrolled": false
   },
   "outputs": [
    {
     "name": "stdout",
     "output_type": "stream",
     "text": [
      "Total count :-  108\n",
      "\n",
      "\n",
      "\n",
      "Tools : 8.563273073263558\n",
      "Entertainment : 6.089438629876309\n",
      "Education : 5.387725975261656\n",
      "Business : 4.709800190294957\n",
      "Productivity : 3.9724072312083734\n",
      "Lifestyle : 3.8772597526165553\n",
      "Finance : 3.73453853472883\n",
      "Medical : 3.6393910561370126\n",
      "Sports : 3.3301617507136063\n",
      "Personalization : 3.306374881065652\n",
      "Communication : 3.2231208372978117\n",
      "Health & Fitness : 3.1279733587059946\n",
      "Action : 3.116079923882017\n",
      "Photography : 3.0090390104662226\n",
      "News & Magazines : 2.7949571836346334\n",
      "Social : 2.664129400570885\n",
      "Travel & Local : 2.3073263558515698\n",
      "Shopping : 2.247859181731684\n",
      "Books & Reference : 2.1883920076117986\n",
      "Simulation : 2.0813510941960036\n",
      "Dating : 1.8315889628924835\n",
      "Arcade : 1.8315889628924835\n",
      "Casual : 1.7721217887725977\n",
      "Video Players & Editors : 1.736441484300666\n",
      "Maps & Navigation : 1.3558515699333968\n",
      "Food & Drink : 1.2012369172216937\n",
      "Puzzle : 1.1298763082778307\n",
      "Racing : 1.0228353948620361\n",
      "Role Playing : 0.939581351094196\n",
      "Auto & Vehicles : 0.939581351094196\n",
      "Strategy : 0.9039010466222646\n",
      "Libraries & Demo : 0.9039010466222646\n",
      "House & Home : 0.8087535680304472\n",
      "Weather : 0.7968601332064701\n",
      "Events : 0.7136060894386299\n",
      "Adventure : 0.6541389153187441\n",
      "Beauty : 0.6303520456707897\n",
      "Art & Design : 0.6184586108468125\n",
      "Comics : 0.5589914367269267\n",
      "Parenting : 0.49952426260704097\n",
      "Trivia : 0.4162702188392008\n",
      "Educational;Education : 0.4162702188392008\n",
      "Card : 0.4043767840152236\n",
      "Educational : 0.3805899143672693\n",
      "Casino : 0.3805899143672693\n",
      "Board : 0.3686964795432921\n",
      "Education;Education : 0.34490960989533775\n",
      "Word : 0.24976213130352048\n",
      "Music : 0.2021883920076118\n",
      "Casual;Pretend Play : 0.19029495718363465\n",
      "Puzzle;Brain Games : 0.17840152235965748\n",
      "Racing;Action & Adventure : 0.142721217887726\n",
      "Casual;Brain Games : 0.142721217887726\n",
      "Entertainment;Music & Video : 0.13082778306374881\n",
      "Casual;Action & Adventure : 0.13082778306374881\n",
      "Arcade;Action & Adventure : 0.10704091341579447\n",
      "Simulation;Action & Adventure : 0.08325404376784015\n",
      "Parenting;Education : 0.08325404376784015\n",
      "Educational;Pretend Play : 0.08325404376784015\n",
      "Action;Action & Adventure : 0.08325404376784015\n",
      "Entertainment;Brain Games : 0.071360608943863\n",
      "Art & Design;Creativity : 0.071360608943863\n",
      "Parenting;Music & Video : 0.05946717411988582\n",
      "Education;Pretend Play : 0.05946717411988582\n",
      "Board;Brain Games : 0.05946717411988582\n",
      "Role Playing;Pretend Play : 0.04757373929590866\n",
      "Educational;Brain Games : 0.04757373929590866\n",
      "Education;Creativity : 0.04757373929590866\n",
      "Casual;Creativity : 0.04757373929590866\n",
      "Role Playing;Action & Adventure : 0.0356803044719315\n",
      "Puzzle;Action & Adventure : 0.0356803044719315\n",
      "Educational;Creativity : 0.0356803044719315\n",
      "Education;Music & Video : 0.0356803044719315\n",
      "Education;Action & Adventure : 0.0356803044719315\n",
      "Adventure;Action & Adventure : 0.0356803044719315\n",
      "Video Players & Editors;Music & Video : 0.02378686964795433\n",
      "Sports;Action & Adventure : 0.02378686964795433\n",
      "Simulation;Pretend Play : 0.02378686964795433\n",
      "Puzzle;Creativity : 0.02378686964795433\n",
      "Music;Music & Video : 0.02378686964795433\n",
      "Entertainment;Pretend Play : 0.02378686964795433\n",
      "Entertainment;Creativity : 0.02378686964795433\n",
      "Entertainment;Action & Adventure : 0.02378686964795433\n",
      "Educational;Action & Adventure : 0.02378686964795433\n",
      "Education;Brain Games : 0.02378686964795433\n",
      "Casual;Education : 0.02378686964795433\n",
      "Board;Action & Adventure : 0.02378686964795433\n",
      "Video Players & Editors;Creativity : 0.011893434823977166\n",
      "Trivia;Education : 0.011893434823977166\n",
      "Tools;Education : 0.011893434823977166\n",
      "Strategy;Education : 0.011893434823977166\n",
      "Strategy;Creativity : 0.011893434823977166\n",
      "Simulation;Education : 0.011893434823977166\n",
      "Role Playing;Brain Games : 0.011893434823977166\n",
      "Racing;Pretend Play : 0.011893434823977166\n",
      "Puzzle;Education : 0.011893434823977166\n",
      "Parenting;Brain Games : 0.011893434823977166\n",
      "Music & Audio;Music & Video : 0.011893434823977166\n",
      "Lifestyle;Pretend Play : 0.011893434823977166\n",
      "Health & Fitness;Education : 0.011893434823977166\n",
      "Health & Fitness;Action & Adventure : 0.011893434823977166\n",
      "Entertainment;Education : 0.011893434823977166\n",
      "Comics;Creativity : 0.011893434823977166\n",
      "Card;Action & Adventure : 0.011893434823977166\n",
      "Books & Reference;Education : 0.011893434823977166\n",
      "Art & Design;Pretend Play : 0.011893434823977166\n",
      "Art & Design;Action & Adventure : 0.011893434823977166\n",
      "Adventure;Education : 0.011893434823977166\n"
     ]
    }
   ],
   "source": [
    "display_table(android_free, 9) "
   ]
  },
  {
   "cell_type": "code",
   "execution_count": 15,
   "metadata": {},
   "outputs": [
    {
     "name": "stdout",
     "output_type": "stream",
     "text": [
      "Total count :-  33\n",
      "\n",
      "\n",
      "\n",
      "FAMILY : 18.803520456707897\n",
      "GAME : 9.60989533777355\n",
      "TOOLS : 8.575166508087536\n",
      "BUSINESS : 4.709800190294957\n",
      "PRODUCTIVITY : 3.9724072312083734\n",
      "LIFESTYLE : 3.8891531874405327\n",
      "FINANCE : 3.73453853472883\n",
      "MEDICAL : 3.6393910561370126\n",
      "PERSONALIZATION : 3.306374881065652\n",
      "SPORTS : 3.258801141769743\n",
      "COMMUNICATION : 3.2231208372978117\n",
      "HEALTH_AND_FITNESS : 3.1279733587059946\n",
      "PHOTOGRAPHY : 3.0090390104662226\n",
      "NEWS_AND_MAGAZINES : 2.7949571836346334\n",
      "SOCIAL : 2.664129400570885\n",
      "TRAVEL_AND_LOCAL : 2.3073263558515698\n",
      "SHOPPING : 2.247859181731684\n",
      "BOOKS_AND_REFERENCE : 2.1883920076117986\n",
      "DATING : 1.8315889628924835\n",
      "VIDEO_PLAYERS : 1.7602283539486203\n",
      "MAPS_AND_NAVIGATION : 1.3558515699333968\n",
      "FOOD_AND_DRINK : 1.2012369172216937\n",
      "EDUCATION : 1.165556612749762\n",
      "ENTERTAINMENT : 0.939581351094196\n",
      "AUTO_AND_VEHICLES : 0.939581351094196\n",
      "LIBRARIES_AND_DEMO : 0.9039010466222646\n",
      "HOUSE_AND_HOME : 0.8087535680304472\n",
      "WEATHER : 0.7968601332064701\n",
      "EVENTS : 0.7136060894386299\n",
      "ART_AND_DESIGN : 0.6660323501427212\n",
      "PARENTING : 0.6541389153187441\n",
      "BEAUTY : 0.6303520456707897\n",
      "COMICS : 0.570884871550904\n"
     ]
    }
   ],
   "source": [
    "# Category\n",
    "display_table(android_free, 1)"
   ]
  },
  {
   "cell_type": "markdown",
   "metadata": {},
   "source": [
    "The difference between the Genres and the Category columns is not crystal clear, but one thing we can notice is that the Genres column is much more granular (it has more categories). We're only looking for the bigger picture at the moment, so we'll only work with the Category column moving forward.\n",
    "\n",
    "Up to this point, we found that the App Store is dominated by apps designed for fun, while Google Play shows a more balanced landscape of both practical and for-fun apps. Now we'd like to get an idea about the kind of apps that have most users.\n",
    "\n",
    "One way to find out what genres are the most popular (have the most users) is to calculate the average number of installs for each app genre. For the Google Plat data set, we can find this information in the Installs column, but for the App Store data set this information is missing. As a workaround , we'll take the total number of user ratings as a proxy, which we can find in the rating_count_tot app.\n",
    "\n",
    "Below, we calculate the averag number of user ratings per app genre on the App Store :"
   ]
  },
  {
   "cell_type": "code",
   "execution_count": 16,
   "metadata": {},
   "outputs": [
    {
     "name": "stdout",
     "output_type": "stream",
     "text": [
      "Social Networking : 78567.30769230769\n",
      "Photo & Video : 29249.766666666666\n",
      "Games : 21560.75072296125\n",
      "Music : 55396.01587301587\n",
      "Reference : 89562.6\n",
      "Health & Fitness : 19418.620689655174\n",
      "Weather : 48275.57692307692\n",
      "Travel : 34115.57575757576\n",
      "Shopping : 28877.575342465752\n",
      "News : 23382.17948717949\n",
      "Navigation : 125037.25\n",
      "Lifestyle : 17260.53488372093\n",
      "Entertainment : 15006.227272727272\n",
      "Food & Drink : 33333.92307692308\n",
      "Sports : 25791.666666666668\n",
      "Finance : 26038.6875\n",
      "Education : 6103.464285714285\n",
      "Productivity : 22842.22\n",
      "Utilities : 11571.69696969697\n",
      "Book : 16671.0\n",
      "Business : 6839.6\n",
      "Catalogs : 5195.0\n",
      "Medical : 612.0\n"
     ]
    }
   ],
   "source": [
    "genres_ios = freq_table(ios_free, 11)\n",
    "\n",
    "for genre in genres_ios:\n",
    "    total = 0\n",
    "    len_genre = 0\n",
    "    for app in ios_free:\n",
    "        genre_app = app[11]\n",
    "        if genre_app == genre:\n",
    "            n_ratings = float(app[5])\n",
    "            total += n_ratings\n",
    "            len_genre += 1\n",
    "    avg_n_ratings = total / len_genre\n",
    "    print(genre, ':', avg_n_ratings)"
   ]
  },
  {
   "cell_type": "markdown",
   "metadata": {},
   "source": [
    "On average, navigation apps have the highest number of users reviews, but this figure is heavily influenced by Waze and Google Maps, which have close to half a million user reviews, together:"
   ]
  },
  {
   "cell_type": "code",
   "execution_count": 17,
   "metadata": {},
   "outputs": [
    {
     "name": "stdout",
     "output_type": "stream",
     "text": [
      "Waze - GPS Navigation, Maps & Real-time Traffic : 345046\n",
      "Google Maps - Navigation & Transit : 154911\n",
      "ImmobilienScout24: Real Estate Search in Germany : 187\n",
      "Railway Route Search : 5\n"
     ]
    }
   ],
   "source": [
    "for app in ios_free:\n",
    "    if app[11] == 'Navigation':\n",
    "        print(app[1], ':', app[5])"
   ]
  },
  {
   "cell_type": "markdown",
   "metadata": {},
   "source": [
    "The same pattern applies to social networking apps, where the average number is heavily influenced by a few giants like Facebook, Pinterest, Skype, etc. Same applies to music apps, where a few big players like Pandora, Spotify, and Shazam heavily influence the average number.\n",
    "\n",
    "Our aim is to find popular genres, but navigation, social networking or music apps might seem more popular than they are really are. The average number of rating seem to be skewed by very few apps which have hundreds of thousands of user ratings, while the other apps may struggle to get past the 10 000 threshold. We could get a better picture by removing these extremely popular apps for each genre and then rework the averages, but we will leave this level of detail for later.\n",
    "\n",
    "Reference apps have 74 942 user ratings on average, but it's actually the Bible and Dictionary.com which skew up the average rating:"
   ]
  },
  {
   "cell_type": "code",
   "execution_count": 18,
   "metadata": {},
   "outputs": [
    {
     "name": "stdout",
     "output_type": "stream",
     "text": [
      "Bible : 985920\n",
      "Dictionary.com Dictionary & Thesaurus : 200047\n",
      "Dictionary.com Dictionary & Thesaurus for iPad : 54175\n",
      "Google Translate : 26786\n",
      "Muslim Pro: Ramadan 2017 Prayer Times, Azan, Quran : 18418\n",
      "New Furniture Mods - Pocket Wiki & Game Tools for Minecraft PC Edition : 17588\n",
      "Merriam-Webster Dictionary : 16849\n",
      "Night Sky : 12122\n",
      "City Maps for Minecraft PE - The Best Maps for Minecraft Pocket Edition (MCPE) : 8535\n",
      "GUNS MODS for Minecraft PC Edition - Mods Tools : 1497\n",
      "WWDC : 762\n",
      "Horror Maps for Minecraft PE - Download The Scariest Maps for Minecraft Pocket Edition (MCPE) Free : 718\n",
      "VPN Express : 14\n",
      "Real Bike Traffic Rider Virtual Reality Glasses : 8\n",
      "Jishokun-Japanese English Dictionary & Translator : 0\n"
     ]
    }
   ],
   "source": [
    "for app in ios_free:\n",
    "    if app[11] == 'Reference':\n",
    "        print(app[1], ':', app[5])"
   ]
  },
  {
   "cell_type": "code",
   "execution_count": 19,
   "metadata": {},
   "outputs": [
    {
     "name": "stdout",
     "output_type": "stream",
     "text": [
      "Total count :-  21\n",
      "\n",
      "\n",
      "\n",
      "1,000,000+ : 15.592293054234062\n",
      "100,000+ : 11.596098953377735\n",
      "10,000+ : 10.442435775451951\n",
      "10,000,000+ : 10.323501427212179\n",
      "1,000+ : 8.480019029495718\n",
      "100+ : 7.088487155090391\n",
      "5,000,000+ : 6.660323501427213\n",
      "500,000+ : 5.5542340627973354\n",
      "50,000+ : 4.7216936251189345\n",
      "5,000+ : 4.5313986679353\n",
      "10+ : 3.5442435775451955\n",
      "500+ : 3.246907706945766\n",
      "50,000,000+ : 2.2121788772597526\n",
      "100,000,000+ : 2.1289248334919124\n",
      "50+ : 1.9743101807802093\n",
      "5+ : 0.8206470028544244\n",
      "1+ : 0.5114176974310181\n",
      "500,000,000+ : 0.285442435775452\n",
      "1,000,000,000+ : 0.22597526165556614\n",
      "0+ : 0.04757373929590866\n",
      "0 : 0.011893434823977166\n"
     ]
    }
   ],
   "source": [
    "display_table(android_free, 5)"
   ]
  },
  {
   "cell_type": "code",
   "execution_count": 20,
   "metadata": {},
   "outputs": [
    {
     "name": "stdout",
     "output_type": "stream",
     "text": [
      "ART_AND_DESIGN : 1932519.642857143\n",
      "AUTO_AND_VEHICLES : 645317.2278481013\n",
      "BEAUTY : 513151.88679245283\n",
      "BOOKS_AND_REFERENCE : 8504745.97826087\n",
      "BUSINESS : 1602958.308080808\n",
      "COMICS : 880440.625\n",
      "COMMUNICATION : 36106662.328413285\n",
      "DATING : 764959.4610389611\n",
      "EDUCATION : 1844897.9591836734\n",
      "ENTERTAINMENT : 12346329.11392405\n",
      "EVENTS : 232885.83333333334\n",
      "FINANCE : 1348224.9426751593\n",
      "FOOD_AND_DRINK : 1974937.1386138613\n",
      "HEALTH_AND_FITNESS : 4263642.1749049425\n",
      "HOUSE_AND_HOME : 1391211.1911764706\n",
      "LIBRARIES_AND_DEMO : 674917.2368421053\n",
      "LIFESTYLE : 1375297.3058103975\n",
      "GAME : 15434835.816831684\n",
      "FAMILY : 3633707.342820999\n",
      "MEDICAL : 119216.81045751635\n",
      "SOCIAL : 24441088.17857143\n",
      "SHOPPING : 7307823.2010582015\n",
      "PHOTOGRAPHY : 18099283.85375494\n",
      "SPORTS : 3647640.208029197\n",
      "TRAVEL_AND_LOCAL : 14487541.68041237\n",
      "TOOLS : 11084333.292649098\n",
      "PERSONALIZATION : 5027006.791366907\n",
      "PRODUCTIVITY : 16972497.946107786\n",
      "PARENTING : 544745.6363636364\n",
      "WEATHER : 5219216.7164179105\n",
      "VIDEO_PLAYERS : 25234606.216216218\n",
      "NEWS_AND_MAGAZINES : 10006311.10638298\n",
      "MAPS_AND_NAVIGATION : 4304432.280701755\n"
     ]
    }
   ],
   "source": [
    "categories_android = freq_table(android_free, 1)\n",
    "\n",
    "for category in categories_android:\n",
    "    total = 0\n",
    "    len_category = 0\n",
    "    for app in android_free:\n",
    "        category_app = app[1]\n",
    "        if category_app == category:\n",
    "            n_inistalls = app[5]\n",
    "            n_inistalls = n_inistalls.replace(',', '')\n",
    "            n_inistalls = n_inistalls.replace('+', '')\n",
    "            total += float(n_inistalls)\n",
    "            len_category += 1\n",
    "    avg_n_inistalls = total / len_category\n",
    "    print(category, ':', avg_n_inistalls)"
   ]
  }
 ],
 "metadata": {
  "kernelspec": {
   "display_name": "Python 3",
   "language": "python",
   "name": "python3"
  },
  "language_info": {
   "codemirror_mode": {
    "name": "ipython",
    "version": 3
   },
   "file_extension": ".py",
   "mimetype": "text/x-python",
   "name": "python",
   "nbconvert_exporter": "python",
   "pygments_lexer": "ipython3",
   "version": "3.8.2"
  }
 },
 "nbformat": 4,
 "nbformat_minor": 2
}
